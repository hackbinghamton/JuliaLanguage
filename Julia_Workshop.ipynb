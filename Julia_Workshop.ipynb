{
  "nbformat": 4,
  "nbformat_minor": 0,
  "metadata": {
    "colab": {
      "provenance": []
    },
    "kernelspec": {
      "display_name": "Julia",
      "language": "julia",
      "name": "julia"
    },
    "language_info": {
      "file_extension": ".jl",
      "mimetype": "application/julia",
      "name": "julia"
    }
  },
  "cells": [
    {
      "cell_type": "markdown",
      "metadata": {
        "id": "tQ1r1bbb0yBv"
      },
      "source": [
        "# <img src=\"https://github.com/JuliaLang/julia-logo-graphics/raw/master/images/julia-logo-color.png\" height=\"100\" /> _HackBU Workshop_\n",
        "\n",
        "## RUN THE FOLLOWING TO DOWNLOAD JULIA:\n"
      ]
    },
    {
      "cell_type": "code",
      "metadata": {
        "id": "GIeFXS0F0zww"
      },
      "source": [
        "%%shell\n",
        "set -e\n",
        "\n",
        "#---------------------------------------------------#\n",
        "JULIA_VERSION=\"1.8.2\" # any version ≥ 0.7.0\n",
        "JULIA_PACKAGES=\"IJulia BenchmarkTools\"\n",
        "JULIA_PACKAGES_IF_GPU=\"CUDA\" # or CuArrays for older Julia versions\n",
        "JULIA_NUM_THREADS=2\n",
        "#---------------------------------------------------#\n",
        "\n",
        "if [ -z `which julia` ]; then\n",
        "  # Install Julia\n",
        "  JULIA_VER=`cut -d '.' -f -2 <<< \"$JULIA_VERSION\"`\n",
        "  echo \"Installing Julia $JULIA_VERSION on the current Colab Runtime...\"\n",
        "  BASE_URL=\"https://julialang-s3.julialang.org/bin/linux/x64\"\n",
        "  URL=\"$BASE_URL/$JULIA_VER/julia-$JULIA_VERSION-linux-x86_64.tar.gz\"\n",
        "  wget -nv $URL -O /tmp/julia.tar.gz # -nv means \"not verbose\"\n",
        "  tar -x -f /tmp/julia.tar.gz -C /usr/local --strip-components 1\n",
        "  rm /tmp/julia.tar.gz\n",
        "\n",
        "  # Install Packages\n",
        "  nvidia-smi -L &> /dev/null && export GPU=1 || export GPU=0\n",
        "  if [ $GPU -eq 1 ]; then\n",
        "    JULIA_PACKAGES=\"$JULIA_PACKAGES $JULIA_PACKAGES_IF_GPU\"\n",
        "  fi\n",
        "  for PKG in `echo $JULIA_PACKAGES`; do\n",
        "    echo \"Installing Julia package $PKG...\"\n",
        "    julia -e 'using Pkg; pkg\"add '$PKG'; precompile;\"' &> /dev/null\n",
        "  done\n",
        "\n",
        "  # Install kernel and rename it to \"julia\"\n",
        "  echo \"Installing IJulia kernel...\"\n",
        "  julia -e 'using IJulia; IJulia.installkernel(\"julia\", env=Dict(\n",
        "      \"JULIA_NUM_THREADS\"=>\"'\"$JULIA_NUM_THREADS\"'\"))'\n",
        "  KERNEL_DIR=`julia -e \"using IJulia; print(IJulia.kerneldir())\"`\n",
        "  KERNEL_NAME=`ls -d \"$KERNEL_DIR\"/julia*`\n",
        "  mv -f $KERNEL_NAME \"$KERNEL_DIR\"/julia  \n",
        "\n",
        "  echo ''\n",
        "  echo \"Successfully installed `julia -v`!\"\n",
        "  echo \"Please reload this page (press Ctrl+R, ⌘+R, or the F5 key) then\"\n",
        "  echo \"jump to the 'Checking the Installation' section.\"\n",
        "fi"
      ],
      "execution_count": null,
      "outputs": []
    },
    {
      "cell_type": "markdown",
      "metadata": {
        "id": "-OS3Ac017T1i"
      },
      "source": [
        "# Checking the Installation\n",
        "The `versioninfo()` function should print your Julia version and some other info about the system:"
      ]
    },
    {
      "cell_type": "code",
      "metadata": {
        "id": "EEzvvzCl1i0F",
        "colab": {
          "base_uri": "https://localhost:8080/"
        },
        "outputId": "a96edd54-c23b-4466-a74a-3eaeb65f8638"
      },
      "source": [
        "versioninfo()"
      ],
      "execution_count": 2,
      "outputs": [
        {
          "output_type": "stream",
          "name": "stdout",
          "text": [
            "Julia Version 1.8.2\n",
            "Commit 36034abf260 (2022-09-29 15:21 UTC)\n",
            "Platform Info:\n",
            "  OS: Linux (x86_64-linux-gnu)\n",
            "  CPU: 2 × Intel(R) Xeon(R) CPU @ 2.20GHz\n",
            "  WORD_SIZE: 64\n",
            "  LIBM: libopenlibm\n",
            "  LLVM: libLLVM-13.0.1 (ORCJIT, broadwell)\n",
            "  Threads: 2 on 2 virtual cores\n",
            "Environment:\n",
            "  LD_LIBRARY_PATH = /usr/local/nvidia/lib:/usr/local/nvidia/lib64\n",
            "  LD_PRELOAD = /usr/lib/x86_64-linux-gnu/libtcmalloc.so.4\n",
            "  JULIA_NUM_THREADS = 2\n"
          ]
        }
      ]
    },
    {
      "cell_type": "code",
      "source": [
        "using BenchmarkTools\n",
        "\n",
        "M = rand(2^11, 2^11)\n",
        "\n",
        "@btime $M * $M;"
      ],
      "metadata": {
        "colab": {
          "base_uri": "https://localhost:8080/"
        },
        "id": "YjM_qq54lCcs",
        "outputId": "5497fdb4-c7b3-489f-d467-2583c77774d1"
      },
      "execution_count": 3,
      "outputs": [
        {
          "output_type": "stream",
          "name": "stdout",
          "text": [
            "  480.047 ms (2 allocations: 32.00 MiB)\n"
          ]
        }
      ]
    },
    {
      "cell_type": "code",
      "metadata": {
        "id": "XciCcMAJOT3_",
        "colab": {
          "base_uri": "https://localhost:8080/"
        },
        "outputId": "2158f880-8beb-4858-b9ab-7e6f06e06453"
      },
      "source": [
        "try\n",
        "    using CUDA\n",
        "catch\n",
        "    println(\"No GPU found.\")\n",
        "else\n",
        "    run(`nvidia-smi`)\n",
        "    # Create a new random matrix directly on the GPU:\n",
        "    M_on_gpu = CUDA.CURAND.rand(2^11, 2^11)\n",
        "    @btime $M_on_gpu * $M_on_gpu; nothing\n",
        "end"
      ],
      "execution_count": 4,
      "outputs": [
        {
          "output_type": "stream",
          "name": "stdout",
          "text": [
            "No GPU found.\n"
          ]
        }
      ]
    },
    {
      "cell_type": "markdown",
      "metadata": {
        "id": "2UMidUQB03vJ"
      },
      "source": [
        "<img src=\"https://raw.githubusercontent.com/JuliaLang/julia-logo-graphics/master/images/julia-logo-mask.png\" height=\"100\" />"
      ]
    },
    {
      "cell_type": "markdown",
      "source": [
        "---\n",
        "# WORKSHOP STARTS HERE\n",
        "\n",
        "---\n",
        "\n",
        "## The Very Basics\n",
        "\n",
        "First thing with any new language: the \"Hello World\" program. In Julia, we use `print` to print text to the console."
      ],
      "metadata": {
        "id": "YOUZ4990fYV9"
      }
    },
    {
      "cell_type": "code",
      "source": [
        "print(\"Hello World\")"
      ],
      "metadata": {
        "colab": {
          "base_uri": "https://localhost:8080/"
        },
        "id": "Wq6f0roGgxLb",
        "outputId": "dc957b5c-8ab6-43c6-d93d-91383d64ec09"
      },
      "execution_count": 5,
      "outputs": [
        {
          "output_type": "stream",
          "name": "stdout",
          "text": [
            "Hello World"
          ]
        }
      ]
    },
    {
      "cell_type": "markdown",
      "source": [
        "Unlike similar languages like python, starting a new print statement does not automatically go to a new line. "
      ],
      "metadata": {
        "id": "fdCzp7ybhnNg"
      }
    },
    {
      "cell_type": "code",
      "source": [
        "print(\"Hello World\")\n",
        "print(\"New line ?\")"
      ],
      "metadata": {
        "colab": {
          "base_uri": "https://localhost:8080/"
        },
        "id": "k1QsmRxuiTBL",
        "outputId": "2ccf4327-518f-4add-a07d-38725b1d094c"
      },
      "execution_count": 6,
      "outputs": [
        {
          "output_type": "stream",
          "name": "stdout",
          "text": [
            "Hello WorldNew line ?"
          ]
        }
      ]
    },
    {
      "cell_type": "markdown",
      "source": [
        "Julia offers us the same option as Python, where we can add `\\n` to the end of a line in order to start a new line."
      ],
      "metadata": {
        "id": "yLe-6q35iXyX"
      }
    },
    {
      "cell_type": "code",
      "source": [
        "print(\"Hello World\\n\")\n",
        "print(\"New line ?\")"
      ],
      "metadata": {
        "colab": {
          "base_uri": "https://localhost:8080/"
        },
        "id": "NkT1y922ipAd",
        "outputId": "0cc92b81-e1cf-420b-9a30-c5901c7b121c"
      },
      "execution_count": 7,
      "outputs": [
        {
          "output_type": "stream",
          "name": "stdout",
          "text": [
            "Hello World\n",
            "New line ?"
          ]
        }
      ]
    },
    {
      "cell_type": "markdown",
      "source": [
        "Julia also has another print option, `println`, to print with a new line at the end automatically."
      ],
      "metadata": {
        "id": "9JWrNhNoisrz"
      }
    },
    {
      "cell_type": "code",
      "source": [
        "println(\"Hello World!\")\n",
        "print(\"New line ?\")"
      ],
      "metadata": {
        "colab": {
          "base_uri": "https://localhost:8080/"
        },
        "id": "HuSA4xPFiyO1",
        "outputId": "67c2050b-75e6-4bbc-e686-9648cb7bb8cc"
      },
      "execution_count": 8,
      "outputs": [
        {
          "output_type": "stream",
          "name": "stdout",
          "text": [
            "Hello World!\n",
            "New line ?"
          ]
        }
      ]
    },
    {
      "cell_type": "markdown",
      "source": [
        "Something included in Python is the `type()` function, which allows you to output a variable's type. Julia has this too!"
      ],
      "metadata": {
        "id": "V7xrWnLli44k"
      }
    },
    {
      "cell_type": "code",
      "source": [
        "val = 42\n",
        "println(typeof(val))\n",
        "\n",
        "pi_val = 3.1415926535897932384626433832\n",
        "println(typeof(pi_val))\n",
        "\n",
        "# pi is a built-in variable in Julia!\n",
        "println(pi)\n",
        "println(typeof(pi))"
      ],
      "metadata": {
        "colab": {
          "base_uri": "https://localhost:8080/"
        },
        "id": "d9cONjcajCTg",
        "outputId": "4c60e9a1-7025-43fa-8620-c0c8ea306e4b"
      },
      "execution_count": 9,
      "outputs": [
        {
          "output_type": "stream",
          "name": "stdout",
          "text": [
            "Int64\n",
            "Float64\n",
            "π\n",
            "Irrational{:π}\n"
          ]
        }
      ]
    },
    {
      "cell_type": "markdown",
      "source": [
        "### Comments\n",
        "\n",
        "In Julia, short comments are done with a `#` symbol (the same way as python.) Long comments are done with `#=` to start and `=#` to end."
      ],
      "metadata": {
        "id": "8JEu9pATjmX1"
      }
    },
    {
      "cell_type": "code",
      "source": [
        "# Single comment\n",
        "# println(\"Test 0\")\n",
        "println(\"Test 1\")\n",
        "#=\n",
        "\n",
        "\n",
        "println(\"Test 2\")\n",
        "\n",
        "\n",
        "=#\n",
        "println(\"Test 3\")"
      ],
      "metadata": {
        "colab": {
          "base_uri": "https://localhost:8080/"
        },
        "id": "l4gUTiFlj0gk",
        "outputId": "0dc6d4a8-2553-483d-f2ea-8de6327e4150"
      },
      "execution_count": 10,
      "outputs": [
        {
          "output_type": "stream",
          "name": "stdout",
          "text": [
            "Test 1\n",
            "Test 3\n"
          ]
        }
      ]
    },
    {
      "cell_type": "markdown",
      "source": [
        "### Unique Variables\n",
        "\n",
        "One of the advantages to Julia is that you have very unique options for what you can call variables.\n",
        "\n",
        "You can call variables anything that has a unicode value. One fun example of this is with emojis."
      ],
      "metadata": {
        "id": "U480RNzikFpV"
      }
    },
    {
      "cell_type": "code",
      "source": [
        "😝 = \"emoji!\"\n",
        "println(😝)\n",
        "\n",
        "print(typeof(😝))"
      ],
      "metadata": {
        "colab": {
          "base_uri": "https://localhost:8080/"
        },
        "id": "4F15YpmHlTwI",
        "outputId": "f45a7d29-6811-41d8-af37-28361460da7b"
      },
      "execution_count": 11,
      "outputs": [
        {
          "output_type": "stream",
          "name": "stdout",
          "text": [
            "emoji!\n",
            "String"
          ]
        }
      ]
    },
    {
      "cell_type": "code",
      "source": [
        "😢 = -5\n",
        "😐 = 0\n",
        "😄 = 5\n",
        "\n",
        "println(😢 + 😄 == 😐)"
      ],
      "metadata": {
        "colab": {
          "base_uri": "https://localhost:8080/"
        },
        "id": "QSr5DMXYlcdG",
        "outputId": "88ee2d35-bcc4-4d17-8b52-285a5e9482fa"
      },
      "execution_count": 12,
      "outputs": [
        {
          "output_type": "stream",
          "name": "stdout",
          "text": [
            "true\n"
          ]
        }
      ]
    },
    {
      "cell_type": "markdown",
      "source": [
        "While this is fun, emojis don't have too many practical uses. \n",
        "\n",
        "Something that is practical: many researchers need to include mathematical formulas in their papers. Anyone who has had to convert math to code or code to math (or both) will tell you that it can be somewhat difficult to keep track of your variables. Julia makes this significantly easier by allowing you to use mathematical symbols and greek letters as variables!\n",
        "\n",
        "Some common variables you might have seen in your math or physics classes:"
      ],
      "metadata": {
        "id": "oOHREVu0l7Ke"
      }
    },
    {
      "cell_type": "code",
      "source": [
        "Δ = \"delta\"\n",
        "println(Δ)\n",
        "\n",
        "Σ = \"sigma\"\n",
        "println(Σ)\n",
        "\n",
        "Φ = \"phi\"\n",
        "println(Φ)\n",
        "\n",
        "Ψ = \"psi\"\n",
        "println(Ψ)\n",
        "\n",
        "α = \"alpha\"\n",
        "println(α)\n",
        "\n",
        "∫ = \"integral\"\n",
        "println(∫)\n",
        "\n",
        "∬ = \"double integral\"\n",
        "println(∬)\n",
        "\n",
        "∯ = \"surface integral\"\n",
        "println(∯)"
      ],
      "metadata": {
        "colab": {
          "base_uri": "https://localhost:8080/"
        },
        "id": "ePkTVYu4mTml",
        "outputId": "19978e5e-76f8-4bdb-96dd-97a37cb71dac"
      },
      "execution_count": 13,
      "outputs": [
        {
          "output_type": "stream",
          "name": "stdout",
          "text": [
            "delta\n",
            "sigma\n",
            "phi\n",
            "psi\n",
            "alpha\n",
            "integral\n",
            "double integral\n",
            "surface integral\n"
          ]
        }
      ]
    },
    {
      "cell_type": "markdown",
      "source": [
        "### The triple equal signs\n",
        "\n",
        "Something Julia borrows from JavaScript is the triple equal sign operator. A double equal sign (`==`) tests for equality, meaning simply \"are these two values equal to each other, regardless of type?\"\n",
        "\n",
        "By this logic, the following should both print \"true\", because 1.0 is equivalent to 1 mathematically."
      ],
      "metadata": {
        "id": "ZdBfybvzm9pn"
      }
    },
    {
      "cell_type": "code",
      "source": [
        "println(1.0 == 1)\n",
        "println(1.0 == 1.0)"
      ],
      "metadata": {
        "colab": {
          "base_uri": "https://localhost:8080/"
        },
        "id": "uZGBqjVEnXB4",
        "outputId": "a48ddb31-c7b4-400a-9104-1bce9d23c02d"
      },
      "execution_count": 14,
      "outputs": [
        {
          "output_type": "stream",
          "name": "stdout",
          "text": [
            "true\n",
            "true\n"
          ]
        }
      ]
    },
    {
      "cell_type": "markdown",
      "source": [
        "However, the triple equal sign, `===`, asks the computer to include a variable's type when checking for equality. To a computer, the values `1` and `1.0` are not equal to each other. One is an integer, the other is a float. They have different memory requirements. To a computer, these two values are not necessarily equivalent.\n",
        "\n",
        "By this logic, only one of these should be true:"
      ],
      "metadata": {
        "id": "Rxy5BwyYno3Q"
      }
    },
    {
      "cell_type": "code",
      "source": [
        "println(1.0 === 1)\n",
        "println(1.0 === 1.0)"
      ],
      "metadata": {
        "colab": {
          "base_uri": "https://localhost:8080/"
        },
        "id": "_UjlrwqIn9Po",
        "outputId": "8c1e019f-f991-4a99-b2f5-ca5ccc050575"
      },
      "execution_count": 15,
      "outputs": [
        {
          "output_type": "stream",
          "name": "stdout",
          "text": [
            "false\n",
            "true\n"
          ]
        }
      ]
    },
    {
      "cell_type": "markdown",
      "source": [
        "### Strings\n",
        "\n",
        "String manipulation in Julia will likely look familiar if you know python.\n",
        "\n",
        "First, strings are saved as indexable arrays, similarly to python. (Spaces are valid locations). Unlike Python (and most other programming languages,) arrays start at 1 as opposed to 0. Julia was designed to be intuitive to anyone, including people who are not very familiar with programming. Arrays also start at 1 in R and MATLAB for this reason."
      ],
      "metadata": {
        "id": "BFsr5zhXoUm3"
      }
    },
    {
      "cell_type": "code",
      "source": [
        "my_str = \"test string\"\n",
        "\n",
        "println(my_str[1])\n",
        "println(my_str[5]) # space character\n",
        "println(my_str[6])"
      ],
      "metadata": {
        "colab": {
          "base_uri": "https://localhost:8080/"
        },
        "id": "HJXvRxLitKgl",
        "outputId": "e3d4a816-69c8-45b1-dac6-b5bc72987b72"
      },
      "execution_count": 16,
      "outputs": [
        {
          "output_type": "stream",
          "name": "stdout",
          "text": [
            "t\n",
            " \n",
            "s\n"
          ]
        }
      ]
    },
    {
      "cell_type": "markdown",
      "source": [
        "Julia also includes a `length()` function similarly to python. "
      ],
      "metadata": {
        "id": "JF1E5Z3et4b-"
      }
    },
    {
      "cell_type": "code",
      "source": [
        "println(length(my_str))"
      ],
      "metadata": {
        "colab": {
          "base_uri": "https://localhost:8080/"
        },
        "id": "dz7X0RJLt508",
        "outputId": "89cad688-f223-4ec0-c6c3-41ae5e10d68c"
      },
      "execution_count": 17,
      "outputs": [
        {
          "output_type": "stream",
          "name": "stdout",
          "text": [
            "11\n"
          ]
        }
      ]
    },
    {
      "cell_type": "markdown",
      "source": [
        "Not every string character in Julia is valid. Because Julia allows you to use any unicode value, some issues arise when trying to index into strings.\n",
        "\n",
        "If you include a unicode character `\\u2200` in a string, the entire unicode value is indexable by `str[1]`. However, if you try to then index into `str[2]`, Julia doesn't recognize this since it's in the middle of what it considers to be a single character.\n",
        "\n",
        "The following code should print out a unicode value on the first line, and then give an error."
      ],
      "metadata": {
        "id": "0l39-HJJuEfd"
      }
    },
    {
      "cell_type": "code",
      "source": [
        "my_str_2 = \"\\u2200 test\"\n",
        "\n",
        "println(my_str_2[1])\n",
        "println(my_str_2[2])"
      ],
      "metadata": {
        "colab": {
          "base_uri": "https://localhost:8080/",
          "height": 348
        },
        "id": "dHcciwc6uzDs",
        "outputId": "2dd9c787-f0b7-4368-9665-22d576493747"
      },
      "execution_count": 18,
      "outputs": [
        {
          "output_type": "stream",
          "name": "stdout",
          "text": [
            "∀\n"
          ]
        },
        {
          "output_type": "error",
          "ename": "LoadError",
          "evalue": "ignored",
          "traceback": [
            "StringIndexError: invalid index [2], valid nearby indices [1]=>'∀', [4]=>' '",
            "",
            "Stacktrace:",
            " [1] string_index_err(s::String, i::Int64)",
            "   @ Base ./strings/string.jl:12",
            " [2] getindex_continued(s::String, i::Int64, u::UInt32)",
            "   @ Base ./strings/string.jl:237",
            " [3] getindex(s::String, i::Int64)",
            "   @ Base ./strings/string.jl:230",
            " [4] top-level scope",
            "   @ In[18]:4",
            " [5] eval",
            "   @ ./boot.jl:368 [inlined]",
            " [6] include_string(mapexpr::typeof(REPL.softscope), mod::Module, code::String, filename::String)",
            "   @ Base ./loading.jl:1428"
          ]
        }
      ]
    },
    {
      "cell_type": "markdown",
      "source": [
        "Part of that error includes informing you of what the next valid index is: index 4. This should print a space:"
      ],
      "metadata": {
        "id": "QnfEj_fVvERi"
      }
    },
    {
      "cell_type": "code",
      "source": [
        "println(my_str_2[4])"
      ],
      "metadata": {
        "colab": {
          "base_uri": "https://localhost:8080/"
        },
        "id": "o-O9b6J9vK0Q",
        "outputId": "cc2ec2c4-841b-4f2c-ef5b-4d4214288ee6"
      },
      "execution_count": 19,
      "outputs": [
        {
          "output_type": "stream",
          "name": "stdout",
          "text": [
            " \n"
          ]
        }
      ]
    },
    {
      "cell_type": "markdown",
      "source": [
        "Since this can be very unintuitive, Julia has very convenient functions built-in to help with finding valid indices.\n",
        "\n",
        "Some of these include finding the first and last indices, as well as next and previous valid indices. It also has a function to find all valid indices in a function.\n",
        "\n",
        "`firstindex()`\n",
        "`lastindex()`\n",
        "`nextind()`\n",
        "`prevind()`\n",
        "`eachindex()`\n",
        "\n",
        "Some of these are demonstrated below:"
      ],
      "metadata": {
        "id": "U6ks844VvRIa"
      }
    },
    {
      "cell_type": "code",
      "source": [
        "println(firstindex(my_str_2))\n",
        "println(lastindex(my_str_2))\n",
        "\n",
        "println(\"------------------\")\n",
        "\n",
        "collect(eachindex(my_str_2))"
      ],
      "metadata": {
        "colab": {
          "base_uri": "https://localhost:8080/"
        },
        "id": "GEqXL1Y1uDip",
        "outputId": "eb95c3b5-a5d6-4ffa-d44c-6d1d35a24a71"
      },
      "execution_count": 20,
      "outputs": [
        {
          "output_type": "stream",
          "name": "stdout",
          "text": [
            "1\n",
            "8\n",
            "------------------\n"
          ]
        },
        {
          "output_type": "execute_result",
          "data": {
            "text/plain": [
              "6-element Vector{Int64}:\n",
              " 1\n",
              " 4\n",
              " 5\n",
              " 6\n",
              " 7\n",
              " 8"
            ]
          },
          "metadata": {},
          "execution_count": 20
        }
      ]
    },
    {
      "cell_type": "markdown",
      "source": [
        "Notice how `collect(eachindex))` excluded characters 2 and 3 since those are part of the unicode value.\n",
        "\n",
        "Fortunately, Julia is also intelligent enough to know that if you are using the string as an iterable object, it should just skip these automatically."
      ],
      "metadata": {
        "id": "St7ZsZlrwG8c"
      }
    },
    {
      "cell_type": "code",
      "source": [
        "for char in my_str_2\n",
        "  println(char)\n",
        "end"
      ],
      "metadata": {
        "colab": {
          "base_uri": "https://localhost:8080/"
        },
        "id": "q750aw-6wUKK",
        "outputId": "cbfb3e18-87ba-4a3a-918d-7612cf768927"
      },
      "execution_count": 21,
      "outputs": [
        {
          "output_type": "stream",
          "name": "stdout",
          "text": [
            "∀\n",
            " \n",
            "t\n",
            "e\n",
            "s\n",
            "t\n"
          ]
        }
      ]
    },
    {
      "cell_type": "markdown",
      "source": [
        "Julia also offers easy ways of concatinating strings. While Julia offers multiple ways of doing this, the main one is `*`. Many similar languages use `+`, however, `*` is more intuitive from a mathematics standpoint. `*` is usually used for non-commutative operations. For example, `*` is not commutative for matrices. Similarly, concatenating a string is not commutative. `Hello + World` should not be the same thing as `World + Hello`. Hence, the creators of Julia felt that `*` was a more appropriate operator."
      ],
      "metadata": {
        "id": "P8_Zfc34whw_"
      }
    },
    {
      "cell_type": "code",
      "source": [
        "str_1 = \"Hel\"\n",
        "str_2 = \"lo \"\n",
        "str_3 = \"wor\"\n",
        "str_4 = \"ld!\"\n",
        "println(str_1 * str_2 * str_3 * str_4)\n",
        "println(str_1 * str_2 * str_3 * str_4 * \"!!!\")"
      ],
      "metadata": {
        "colab": {
          "base_uri": "https://localhost:8080/"
        },
        "id": "Au_sh5ldxzdU",
        "outputId": "3749629f-6414-41cb-9e79-54e343b57681"
      },
      "execution_count": 22,
      "outputs": [
        {
          "output_type": "stream",
          "name": "stdout",
          "text": [
            "Hello world!\n",
            "Hello world!!!!\n"
          ]
        }
      ]
    },
    {
      "cell_type": "markdown",
      "source": [
        "Julia also offers interpolation. Perl is known for being an incredibly easy language to work with strings with. The creators of Julia wanted similar syntax: `$`.\n",
        "\n",
        "Rather than frequently using `str()` or `string()` like in python, they wanted a single character to denote that the expression should be converted to a string."
      ],
      "metadata": {
        "id": "9zdYCBi-yJOY"
      }
    },
    {
      "cell_type": "code",
      "source": [
        "println(\"5 + 6 = $(5 + 6)\")"
      ],
      "metadata": {
        "colab": {
          "base_uri": "https://localhost:8080/"
        },
        "id": "2pXop8fpywQR",
        "outputId": "f4247667-9b7f-4b7b-a51e-09aa2fedf875"
      },
      "execution_count": 23,
      "outputs": [
        {
          "output_type": "stream",
          "name": "stdout",
          "text": [
            "5 + 6 = 11\n"
          ]
        }
      ]
    },
    {
      "cell_type": "markdown",
      "source": [
        "That being said, Julia still offers the programmer the option to use `string()` if this syntax is preferable to you, although it is much longer to type."
      ],
      "metadata": {
        "id": "eOOnECn1y3ZF"
      }
    },
    {
      "cell_type": "code",
      "source": [
        "println(\"5 + 6 = \" * string(5 + 6))"
      ],
      "metadata": {
        "colab": {
          "base_uri": "https://localhost:8080/"
        },
        "id": "zKin21aNy9ql",
        "outputId": "3bb924b4-36aa-4656-be6c-6ba4b2d27fa2"
      },
      "execution_count": 24,
      "outputs": [
        {
          "output_type": "stream",
          "name": "stdout",
          "text": [
            "5 + 6 = 11\n"
          ]
        }
      ]
    },
    {
      "cell_type": "markdown",
      "source": [
        "Just to show equivalency:"
      ],
      "metadata": {
        "id": "KHqkiSBOzJY_"
      }
    },
    {
      "cell_type": "code",
      "source": [
        "s1 = str_1 * str_2 * str_3 * str_4\n",
        "s2 = \"$str_1$str_2$str_3$str_4\"\n",
        "s3 = string(str_1,str_2,str_3,str_4)\n",
        "\n",
        "println(s1 === s2 === s3)"
      ],
      "metadata": {
        "colab": {
          "base_uri": "https://localhost:8080/"
        },
        "id": "QlnlafLlzLCF",
        "outputId": "9de22bb4-b87b-49ad-9fb7-03c50b001bb9"
      },
      "execution_count": 25,
      "outputs": [
        {
          "output_type": "stream",
          "name": "stdout",
          "text": [
            "true\n"
          ]
        }
      ]
    },
    {
      "cell_type": "markdown",
      "source": [
        "### Tuples, Arrays, and Dictionaries\n",
        "\n",
        "Julia has mostly the same data types as Python (or other similar languages).\n",
        "\n",
        "Tuples:"
      ],
      "metadata": {
        "id": "SQHwMiw9zqFQ"
      }
    },
    {
      "cell_type": "code",
      "source": [
        "my_tuple = (\"test\", 1, 2.345, false)\n",
        "\n",
        "println(my_tuple[1])\n",
        "println(my_tuple[2])\n",
        "println(my_tuple[3])\n",
        "println(my_tuple[4])"
      ],
      "metadata": {
        "colab": {
          "base_uri": "https://localhost:8080/"
        },
        "id": "nlDiK5aZ01Eb",
        "outputId": "79b3fcab-1092-46d3-a4a1-edc3a86c1ea5"
      },
      "execution_count": 26,
      "outputs": [
        {
          "output_type": "stream",
          "name": "stdout",
          "text": [
            "test\n",
            "1\n",
            "2.345\n",
            "false\n"
          ]
        }
      ]
    },
    {
      "cell_type": "markdown",
      "source": [
        "(Tuples are immutable in Julia.)\n",
        "\n",
        "Arrays:\n",
        "\n",
        "Similarly to Python, arrays are mutable and can hold any type of element, including multiple element types in the same array.\n",
        "\n",
        "They also have \"push\" and \"pop\" methods to add or take away from an array."
      ],
      "metadata": {
        "id": "_l8lRJYD071e"
      }
    },
    {
      "cell_type": "code",
      "source": [
        "my_arr = [\"test\", 1, 2.345, false]\n",
        "\n",
        "println(my_arr[1])\n",
        "println(my_arr[2])\n",
        "println(my_arr[3])\n",
        "println(my_arr[4])\n",
        "\n",
        "my_arr[3] = 6.789\n",
        "\n",
        "push!(my_arr, \"another string\")\n",
        "println(my_arr)\n",
        "\n",
        "pop!(my_arr)\n",
        "println(my_arr)"
      ],
      "metadata": {
        "colab": {
          "base_uri": "https://localhost:8080/"
        },
        "id": "TzM2ErN11Hw6",
        "outputId": "37ca4683-f78b-452f-bdb7-b1c0b67c5af2"
      },
      "execution_count": 27,
      "outputs": [
        {
          "output_type": "stream",
          "name": "stdout",
          "text": [
            "test\n",
            "1\n",
            "2.345\n",
            "false\n",
            "Any[\"test\", 1, 6.789, false, \"another string\"]\n",
            "Any[\"test\", 1, 6.789, false]\n"
          ]
        }
      ]
    },
    {
      "cell_type": "markdown",
      "source": [
        "Dictionaries:"
      ],
      "metadata": {
        "id": "OaPf-orb01VU"
      }
    },
    {
      "cell_type": "code",
      "source": [
        "dict = Dict(\"Key1\" => \"Value1\", \"Key2\" => \"Value2\", \"Key3\" => \"Value3\")\n",
        "\n",
        "println(dict)\n",
        "\n",
        "dict[\"Key4\"] = \"Value4\"\n",
        "\n",
        "println(dict)\n",
        "\n"
      ],
      "metadata": {
        "colab": {
          "base_uri": "https://localhost:8080/"
        },
        "id": "SA-DgWTuzpVQ",
        "outputId": "d1f7ec6a-736a-4f02-9443-33e86199da17"
      },
      "execution_count": 28,
      "outputs": [
        {
          "output_type": "stream",
          "name": "stdout",
          "text": [
            "Dict(\"Key3\" => \"Value3\", \"Key2\" => \"Value2\", \"Key1\" => \"Value1\")\n",
            "Dict(\"Key3\" => \"Value3\", \"Key2\" => \"Value2\", \"Key1\" => \"Value1\", \"Key4\" => \"Value4\")\n"
          ]
        }
      ]
    },
    {
      "cell_type": "markdown",
      "source": [
        "Dictionaries also have the built in \"pop\" method."
      ],
      "metadata": {
        "id": "JYV4R5e_0dAs"
      }
    },
    {
      "cell_type": "code",
      "source": [
        "out = pop!(dict, \"Key1\")\n",
        "println(out)\n",
        "println(dict)"
      ],
      "metadata": {
        "colab": {
          "base_uri": "https://localhost:8080/"
        },
        "id": "mi35doJu0hUk",
        "outputId": "63ade73c-a6df-413d-f6d4-e66f3914dd7a"
      },
      "execution_count": 29,
      "outputs": [
        {
          "output_type": "stream",
          "name": "stdout",
          "text": [
            "Value1\n",
            "Dict(\"Key3\" => \"Value3\", \"Key2\" => \"Value2\", \"Key4\" => \"Value4\")\n"
          ]
        }
      ]
    },
    {
      "cell_type": "markdown",
      "source": [
        "### Matrices\n",
        "\n",
        "Working with matrices is very common in languages built around mathematics. One of the desired features of Julia was that it be as easy to do linear algebra with as MATLAB, which is short for \"Matrix Laboratory.\" If you are familiar with MATLAB, much of this should look familiar to you.\n",
        "\n",
        "As with most languages, \"matrices\" are actually multi-dimensional arrays, or in other words, arrays that are holding elements of the type \"array\"."
      ],
      "metadata": {
        "id": "FJxVV8eX2FAI"
      }
    },
    {
      "cell_type": "code",
      "source": [
        "array_array = [[1,2,3],[4,5,6],[7,8,9]]\n",
        "println(array_array)"
      ],
      "metadata": {
        "colab": {
          "base_uri": "https://localhost:8080/"
        },
        "id": "BWnDeXil2yYt",
        "outputId": "927b7ea3-97be-4e23-d2e9-732e180f96c4"
      },
      "execution_count": 30,
      "outputs": [
        {
          "output_type": "stream",
          "name": "stdout",
          "text": [
            "[[1, 2, 3], [4, 5, 6], [7, 8, 9]]\n"
          ]
        }
      ]
    },
    {
      "cell_type": "markdown",
      "source": [
        "Julia  has many built-in functions for working with these, which we won't go over all of now since many are self explanatory, but here is a list of common ones also available with similar syntax in MATLAB:\n",
        "\n",
        "* `length(matrix)`: the number of elements in the matrix\n",
        "* `ndims(matrix)`: the number of dimensions in the matrix\n",
        "* `size(matrix)`: a tuple containing the dimensions\n",
        "* `size(matrix,n)`: the size along a specific dimension\n",
        "* `axes(matrix)`: a tuple containing the valid indices of the matrix\n",
        "* `axes(matrix,n)`: a range of valid indices along a specific dimension"
      ],
      "metadata": {
        "id": "vc5ytgrw3Jm6"
      }
    },
    {
      "cell_type": "code",
      "source": [
        "println(ndims(array_array))\n",
        "\n",
        "println(size(array_array,1))"
      ],
      "metadata": {
        "colab": {
          "base_uri": "https://localhost:8080/"
        },
        "id": "asayBZLI3tXu",
        "outputId": "734499c9-1b4e-4254-ffb4-3533adcca223"
      },
      "execution_count": 31,
      "outputs": [
        {
          "output_type": "stream",
          "name": "stdout",
          "text": [
            "1\n",
            "3\n"
          ]
        }
      ]
    },
    {
      "cell_type": "markdown",
      "source": [
        "Julia also has some fun built-in functions to help with matrix construction.\n",
        "\n",
        "For example, declaring arrays with all zeros, arrays with random numbers, or diagonal matrices."
      ],
      "metadata": {
        "id": "2An558Nn4Nb4"
      }
    },
    {
      "cell_type": "code",
      "source": [
        "randArr = rand(2,3)\n",
        "println(randArr)\n",
        "\n",
        "zeroArr = zeros(2,3)\n",
        "println(zeroArr)"
      ],
      "metadata": {
        "colab": {
          "base_uri": "https://localhost:8080/",
          "height": 259
        },
        "id": "JDSMIN3L4Zz_",
        "outputId": "3cb6ee29-a0ea-4ba5-ba9c-f0b9c82920c7"
      },
      "execution_count": 32,
      "outputs": [
        {
          "output_type": "stream",
          "name": "stdout",
          "text": [
            "[0.23671815383808714 0.5731603025549878 0.7948839623366752; 0.22090454841736784 0.8566880857960805 0.28086260342055636]\n",
            "[0.0 0.0 0.0; 0.0 0.0 0.0]\n"
          ]
        },
        {
          "output_type": "error",
          "ename": "LoadError",
          "evalue": "ignored",
          "traceback": [
            "UndefVarError: Diagonal not defined",
            "",
            "Stacktrace:",
            " [1] top-level scope",
            "   @ In[32]:7",
            " [2] eval",
            "   @ ./boot.jl:368 [inlined]",
            " [3] include_string(mapexpr::typeof(REPL.softscope), mod::Module, code::String, filename::String)",
            "   @ Base ./loading.jl:1428"
          ]
        }
      ]
    },
    {
      "cell_type": "markdown",
      "source": [
        "It also has a library, `Linear Algebra` to help with some more mathy stuff."
      ],
      "metadata": {
        "id": "0KFBbg865uDH"
      }
    },
    {
      "cell_type": "code",
      "source": [
        "using LinearAlgebra\n",
        "\n",
        "# Create an identity matrix\n",
        "identityMatrix = LinearAlgebra.Matrix{Int8}(I, 5, 5)\n",
        "println(identityMatrix)\n",
        "println()\n",
        "diagArr = Diagonal([1,2,3])\n",
        "println(diagArr)"
      ],
      "metadata": {
        "colab": {
          "base_uri": "https://localhost:8080/"
        },
        "id": "2UJgj85r5zBE",
        "outputId": "80d3435e-ad86-46e1-dc38-3a609db966d5"
      },
      "execution_count": 34,
      "outputs": [
        {
          "output_type": "stream",
          "name": "stdout",
          "text": [
            "Int8[1 0 0 0 0; 0 1 0 0 0; 0 0 1 0 0; 0 0 0 1 0; 0 0 0 0 1]\n",
            "\n",
            "[1 0 0; 0 2 0; 0 0 3]\n"
          ]
        }
      ]
    },
    {
      "cell_type": "markdown",
      "source": [
        "Above is the syntax for how to include the library in your code and how to call specific functions within it.\n",
        "\n",
        "This library includes hundreds of matrix operations, including creating upper triangular matrices, diagonal matrices, and all the matrix operations. It also includes several types of factorizations!"
      ],
      "metadata": {
        "id": "IP_eqdkm6J_V"
      }
    },
    {
      "cell_type": "markdown",
      "source": [
        "### Functions and Loops\n",
        "\n",
        "Julia takes inspiration from MATLAB for it's function syntax. \n",
        "\n",
        "Functions are declared with the `function` keyword, followed by the name of the function and parenthesis. Unlike python, you don't need a colon to indicate the start of a function (or any other type of loop- just whitespace). You do, however, need to indicate where your loops and functions are ending. This is intuitively done with the keyword `end`.\n",
        "\n",
        "Here are a few examples of functions, all of which print out the exact same thing. (You can comment them out and rerun if you want.)"
      ],
      "metadata": {
        "id": "RwlscBk-709n"
      }
    },
    {
      "cell_type": "code",
      "source": [
        "function printNumsWhileLoop()\n",
        "  n = 0\n",
        "  while n < 10\n",
        "    n += 1\n",
        "    println(n)\n",
        "  end\n",
        "end\n",
        "\n",
        "function printNumsForLoop()\n",
        "  for i = 1:10\n",
        "    println(i)\n",
        "  end\n",
        "end\n",
        "\n",
        "function printNumsForElement()\n",
        "  for i ∈ 1:10\n",
        "    println(i)\n",
        "  end\n",
        "end\n",
        "\n",
        "#printNumsWhileLoop()\n",
        "printNumsForLoop()\n",
        "#printNumsForElement()"
      ],
      "metadata": {
        "colab": {
          "base_uri": "https://localhost:8080/"
        },
        "id": "u6s5qQi273Jy",
        "outputId": "50a146e2-65c2-4461-f901-2dfddbb43495"
      },
      "execution_count": 35,
      "outputs": [
        {
          "output_type": "stream",
          "name": "stdout",
          "text": [
            "1\n",
            "2\n",
            "3\n",
            "4\n",
            "5\n",
            "6\n",
            "7\n",
            "8\n",
            "9\n",
            "10\n"
          ]
        }
      ]
    },
    {
      "cell_type": "markdown",
      "source": [
        "In Julia, ranges are done using `start:stop`. The start value, followed by a colon, then the end value. Both the start and stop are inclusive (meaning if you start on 1 and end on 10, both 1 and 10 are included. Python excludes the stop value, so it would only print 1-9.) \n",
        "\n",
        "Here's an example of a nested for loop:"
      ],
      "metadata": {
        "id": "ky_XvYYrCzuV"
      }
    },
    {
      "cell_type": "code",
      "source": [
        "function additionTable(m,n)\n",
        "  A = zeros(m,n)\n",
        "  for i in 1:m \n",
        "    for j in 1:n \n",
        "      A[i, j] = i + j\n",
        "    end\n",
        "  end\n",
        "  return A\n",
        "end\n",
        "\n",
        "additionTable(5,5)"
      ],
      "metadata": {
        "colab": {
          "base_uri": "https://localhost:8080/"
        },
        "id": "roPKDNzRO3wJ",
        "outputId": "2681dc04-cd45-43be-f76c-d69cea93d681"
      },
      "execution_count": 36,
      "outputs": [
        {
          "output_type": "execute_result",
          "data": {
            "text/plain": [
              "5×5 Matrix{Float64}:\n",
              " 2.0  3.0  4.0  5.0   6.0\n",
              " 3.0  4.0  5.0  6.0   7.0\n",
              " 4.0  5.0  6.0  7.0   8.0\n",
              " 5.0  6.0  7.0  8.0   9.0\n",
              " 6.0  7.0  8.0  9.0  10.0"
            ]
          },
          "metadata": {},
          "execution_count": 36
        }
      ]
    },
    {
      "cell_type": "markdown",
      "source": [
        "Julia allows you to do both for loops in one line with a single `end` keyword."
      ],
      "metadata": {
        "id": "V6iu47-mQiTQ"
      }
    },
    {
      "cell_type": "code",
      "source": [
        "function additionTable2(m,n)\n",
        "  A = zeros(m,n)\n",
        "  for i in 1:m, j in 1:n \n",
        "      A[i, j] = i + j\n",
        "  end\n",
        "  return A\n",
        "end\n",
        "\n",
        "additionTable2(5,5)"
      ],
      "metadata": {
        "colab": {
          "base_uri": "https://localhost:8080/"
        },
        "id": "uPIwL8MfQl3D",
        "outputId": "858f1a3c-323b-4ebd-92a1-40eae40d2ec4"
      },
      "execution_count": 37,
      "outputs": [
        {
          "output_type": "execute_result",
          "data": {
            "text/plain": [
              "5×5 Matrix{Float64}:\n",
              " 2.0  3.0  4.0  5.0   6.0\n",
              " 3.0  4.0  5.0  6.0   7.0\n",
              " 4.0  5.0  6.0  7.0   8.0\n",
              " 5.0  6.0  7.0  8.0   9.0\n",
              " 6.0  7.0  8.0  9.0  10.0"
            ]
          },
          "metadata": {},
          "execution_count": 37
        }
      ]
    },
    {
      "cell_type": "markdown",
      "source": [
        "One more way using array comprehension (similarly to list comprehension in Python):"
      ],
      "metadata": {
        "id": "qc7JyN0SQwsT"
      }
    },
    {
      "cell_type": "code",
      "source": [
        "function additionTable3(m,n)\n",
        "  return [i + j for i in 1:m, j in 1:n]\n",
        "end\n",
        "\n",
        "additionTable3(5,5)"
      ],
      "metadata": {
        "colab": {
          "base_uri": "https://localhost:8080/"
        },
        "id": "hnrIRxwJQzUO",
        "outputId": "43072283-5f9f-47e8-8306-5aa274b9a744"
      },
      "execution_count": 38,
      "outputs": [
        {
          "output_type": "execute_result",
          "data": {
            "text/plain": [
              "5×5 Matrix{Int64}:\n",
              " 2  3  4  5   6\n",
              " 3  4  5  6   7\n",
              " 4  5  6  7   8\n",
              " 5  6  7  8   9\n",
              " 6  7  8  9  10"
            ]
          },
          "metadata": {},
          "execution_count": 38
        }
      ]
    },
    {
      "cell_type": "markdown",
      "source": [
        "### Conditionals\n",
        "\n",
        "Julia also allows you to do conditionals very similarly to other programming languages. You use `if`, `elseif`, `else`, and `end` to indicate logical flows."
      ],
      "metadata": {
        "id": "ijO1_ZxwRDMI"
      }
    },
    {
      "cell_type": "code",
      "source": [
        "function conditional(m)\n",
        "  if m === 0\n",
        "    println(\"zero\")\n",
        "  elseif m > 0\n",
        "    println(\"positive\")\n",
        "  else\n",
        "    println(\"negative\")\n",
        "  end\n",
        "end\n",
        "\n",
        "conditional(0)\n",
        "conditional(1)\n",
        "conditional(-1)"
      ],
      "metadata": {
        "colab": {
          "base_uri": "https://localhost:8080/"
        },
        "id": "7-qdbJTyRSub",
        "outputId": "d98db0d1-3ca3-4e85-dee2-5b2471051bd4"
      },
      "execution_count": 39,
      "outputs": [
        {
          "output_type": "stream",
          "name": "stdout",
          "text": [
            "zero\n",
            "positive\n",
            "negative\n"
          ]
        }
      ]
    },
    {
      "cell_type": "markdown",
      "source": [
        "Julia also allows complex conditionals the same way many other languages do. `&&` indicates the logical \"and\", while `||` indicates the logical \"or.\""
      ],
      "metadata": {
        "id": "xfooBpkTRmII"
      }
    },
    {
      "cell_type": "code",
      "source": [
        "function complexConditional(m,n)\n",
        "  if (m > 0) && (n > 0)\n",
        "    println(\"both positive\")\n",
        "  elseif (m > 0) || (n > 0)\n",
        "    println(\"one positive\")\n",
        "  else\n",
        "    println(\"neither positive\")\n",
        "  end\n",
        "end\n",
        "\n",
        "complexConditional(2,3)\n",
        "complexConditional(-2,3)\n",
        "complexConditional(-2,-3)"
      ],
      "metadata": {
        "colab": {
          "base_uri": "https://localhost:8080/"
        },
        "id": "-Rk4p2UtRugW",
        "outputId": "ef40c4b5-2d71-4e40-b411-c7a6731cb9e8"
      },
      "execution_count": 41,
      "outputs": [
        {
          "output_type": "stream",
          "name": "stdout",
          "text": [
            "both positive\n",
            "one positive\n",
            "neither positive\n"
          ]
        }
      ]
    },
    {
      "cell_type": "markdown",
      "source": [
        "General note about functions: They are always pass-by-value in Julia as a default!!!\n",
        "\n",
        "---\n",
        "\n",
        "We hope you enjoyed this brief introduction to Julia! Please let us know in the feedback survey what else you would like to see or if we forgot anything!"
      ],
      "metadata": {
        "id": "SU2-QfAqSDbP"
      }
    }
  ]
}
